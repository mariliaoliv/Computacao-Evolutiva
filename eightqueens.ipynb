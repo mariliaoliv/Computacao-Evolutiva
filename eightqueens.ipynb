{
  "nbformat": 4,
  "nbformat_minor": 0,
  "metadata": {
    "colab": {
      "provenance": [],
      "authorship_tag": "ABX9TyP0QXCR/D0QpR2/hb15E8xr",
      "include_colab_link": true
    },
    "kernelspec": {
      "name": "python3",
      "display_name": "Python 3"
    },
    "language_info": {
      "name": "python"
    }
  },
  "cells": [
    {
      "cell_type": "markdown",
      "metadata": {
        "id": "view-in-github",
        "colab_type": "text"
      },
      "source": [
        "<a href=\"https://colab.research.google.com/github/mariliaoliv/Computacao-Evolutiva/blob/main/eightqueens.ipynb\" target=\"_parent\"><img src=\"https://colab.research.google.com/assets/colab-badge.svg\" alt=\"Open In Colab\"/></a>"
      ]
    },
    {
      "cell_type": "markdown",
      "source": [
        "**Melhor Configuração Geral:**\n",
        "\n",
        "Pop=150, Mut=0.15: 87.5% de sucesso em apenas 147.5 gerações (0.66s)\n",
        "\n",
        "Pop=200, Mut=0.01/0.1: 87.5% de sucesso com ~180 gerações (~0.7s)\n",
        "\n",
        "**Tendências Observadas:**\n",
        "\n",
        "Populações maiores (150-200) geralmente performam melhor\n",
        "\n",
        "Taxas de mutação médias (0.05-0.15) são mais eficazes\n",
        "\n",
        "O pior caso foi Pop=50, Mut=0.01/0.15 (apenas 25% de sucesso)\n",
        "\n",
        "O que piora:\n",
        "\n",
        "Populações muito pequenas (50)\n",
        "\n",
        "Taxas de mutação extremas (0.01 ou 0.15 para Pop>150)\n",
        "\n",
        "**Com base nos testes:**\n",
        "\n",
        "Para eficiência: Pop=150, Mut=0.15 (melhor equilíbrio)\n",
        "\n",
        "Para confiabilidade: Pop=200, Mut=0.1 (resultado consistente)\n",
        "\n",
        "Para velocidade: Pop=100, Mut=0.05 (75% sucesso em 0.47s)"
      ],
      "metadata": {
        "id": "jHbX6bHC9IE7"
      }
    },
    {
      "cell_type": "code",
      "source": [
        "import random\n",
        "import time\n",
        "from collections import defaultdict\n",
        "\n",
        "# Meu\n",
        "# Configurações\n",
        "POPULATION_SIZES = [50, 100, 150, 200]\n",
        "MUTATION_RATES = [0.01, 0.05, 0.08, 0.1, 0.15]\n",
        "N_RUNS = 8\n",
        "MAX_GENERATIONS = 1000\n",
        "TARGET_FITNESS = 28\n",
        "\n",
        "# Funções auxiliares\n",
        "def create_individual():\n",
        "    return [random.randint(0, 7) for _ in range(8)]\n",
        "\n",
        "def evaluate_fitness(genes):\n",
        "    clashes = 0\n",
        "    for i in range(8):\n",
        "        for j in range(i + 1, 8):\n",
        "            if genes[i] == genes[j] or abs(genes[i] - genes[j]) == abs(i - j):\n",
        "                clashes += 1\n",
        "    return 28 - clashes\n",
        "\n",
        "def create_population(pop_size):\n",
        "    return sorted([(create_individual(), evaluate_fitness(create_individual()))\n",
        "                  for _ in range(pop_size)], key=lambda x: x[1], reverse=True)\n",
        "\n",
        "def select_parent(population, tournament_size=5):\n",
        "    candidates = random.sample(population, tournament_size)\n",
        "    return max(candidates, key=lambda x: x[1])\n",
        "\n",
        "def crossover(parent1, parent2):\n",
        "    point1, point2 = sorted(random.sample(range(1, 8), 2))\n",
        "    child = parent1[0][:point1] + parent2[0][point1:point2] + parent1[0][point2:]\n",
        "    return (child, evaluate_fitness(child))\n",
        "\n",
        "def adaptive_mutation(individual, mutation_rate, generation, last_improvement):\n",
        "    if generation - last_improvement > 50:\n",
        "        mutation_rate = min(0.3, mutation_rate * 1.2)\n",
        "    genes, fitness = individual\n",
        "    if random.random() < mutation_rate:\n",
        "        genes[random.randint(0, 7)] = random.randint(0, 7)\n",
        "    return (genes, evaluate_fitness(genes)), mutation_rate\n",
        "\n",
        "def evolve_population(population, mutation_rate, generation, last_improvement):\n",
        "    new_pop = population[:20]\n",
        "    for _ in range(len(population) - 20):\n",
        "        parent1 = select_parent(population)\n",
        "        parent2 = select_parent(population)\n",
        "        child = crossover(parent1, parent2)\n",
        "        child, mutation_rate = adaptive_mutation(child, mutation_rate, generation, last_improvement)\n",
        "        new_pop.append(child)\n",
        "    new_pop.sort(key=lambda x: x[1], reverse=True)\n",
        "    return new_pop, mutation_rate\n",
        "\n",
        "# Teste automatizado\n",
        "def run_optimized_test():\n",
        "    results = defaultdict(list)\n",
        "    for pop_size in POPULATION_SIZES:\n",
        "        for mut_rate in MUTATION_RATES:\n",
        "            print(f\"\\n► Testando Pop={pop_size}, Mut={mut_rate}...\")\n",
        "            success_count = 0\n",
        "            for _ in range(N_RUNS):\n",
        "                pop = create_population(pop_size)\n",
        "                best_fitness = pop[0][1]\n",
        "                last_improvement = 0\n",
        "                current_mut_rate = mut_rate\n",
        "                start_time = time.time()\n",
        "                for generation in range(MAX_GENERATIONS):\n",
        "                    if best_fitness == TARGET_FITNESS:\n",
        "                        success_count += 1\n",
        "                        break\n",
        "                    pop, current_mut_rate = evolve_population(pop, current_mut_rate, generation, last_improvement)\n",
        "                    new_best = pop[0][1]\n",
        "                    if new_best > best_fitness:\n",
        "                        best_fitness = new_best\n",
        "                        last_improvement = generation\n",
        "                exec_time = time.time() - start_time\n",
        "                results[(pop_size, mut_rate)].append((generation, exec_time, best_fitness))\n",
        "            success_rate = (success_count / N_RUNS) * 100\n",
        "            avg_gens = sum(r[0] for r in results[(pop_size, mut_rate)]) / N_RUNS\n",
        "            avg_time = sum(r[1] for r in results[(pop_size, mut_rate)]) / N_RUNS\n",
        "            print(f\"  ✓ Sucesso: {success_rate}% | Gerações: {avg_gens:.1f} | Tempo: {avg_time:.2f}s\")\n",
        "    return results\n",
        "\n",
        "if __name__ == \"__main__\":\n",
        "    final_results = run_optimized_test()\n",
        "\n"
      ],
      "metadata": {
        "colab": {
          "base_uri": "https://localhost:8080/"
        },
        "id": "p4BZBZFhyY1R",
        "outputId": "ba51275a-56c7-4c16-e539-19596865c329"
      },
      "execution_count": null,
      "outputs": [
        {
          "output_type": "stream",
          "name": "stdout",
          "text": [
            "\n",
            "► Testando Pop=50, Mut=0.01...\n",
            "  ✓ Sucesso: 25.0% | Gerações: 773.9 | Tempo: 0.51s\n",
            "\n",
            "► Testando Pop=50, Mut=0.05...\n",
            "  ✓ Sucesso: 37.5% | Gerações: 738.9 | Tempo: 0.48s\n",
            "\n",
            "► Testando Pop=50, Mut=0.08...\n",
            "  ✓ Sucesso: 50.0% | Gerações: 595.9 | Tempo: 0.48s\n",
            "\n",
            "► Testando Pop=50, Mut=0.1...\n",
            "  ✓ Sucesso: 12.5% | Gerações: 892.8 | Tempo: 0.64s\n",
            "\n",
            "► Testando Pop=50, Mut=0.15...\n",
            "  ✓ Sucesso: 50.0% | Gerações: 550.4 | Tempo: 0.36s\n",
            "\n",
            "► Testando Pop=100, Mut=0.01...\n",
            "  ✓ Sucesso: 50.0% | Gerações: 612.4 | Tempo: 1.21s\n",
            "\n",
            "► Testando Pop=100, Mut=0.05...\n"
          ]
        }
      ]
    }
  ]
}